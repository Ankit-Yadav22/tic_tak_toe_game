{
  "nbformat": 4,
  "nbformat_minor": 0,
  "metadata": {
    "colab": {
      "name": "Copy of Tic_Tac_Toe_game.ipynb",
      "provenance": [],
      "collapsed_sections": []
    },
    "kernelspec": {
      "name": "python3",
      "display_name": "Python 3"
    }
  },
  "cells": [
    {
      "cell_type": "code",
      "metadata": {
        "id": "zmpBRxXqurDe",
        "colab_type": "code",
        "colab": {}
      },
      "source": [
        "def display(tic_toc):\n",
        "  print(tic_toc[0] +'|'+ tic_toc[1] +'|'+tic_toc[2])\n",
        "  print(\"__ __\")\n",
        "  print(tic_toc[3] +'|'+ tic_toc[4] +'|'+tic_toc[5])\n",
        "  print(\"__ __\")\n",
        "  print(tic_toc[6] +'|'+ tic_toc[7] +'|'+tic_toc[8])"
      ],
      "execution_count": 0,
      "outputs": []
    },
    {
      "cell_type": "code",
      "metadata": {
        "id": "VDBeMav_1XI9",
        "colab_type": "code",
        "colab": {}
      },
      "source": [
        "def choice():\n",
        "  set=1\n",
        "  while(set==1):\n",
        "   P1=input(\"Player1 choose either X or O\")\n",
        "   if(P1=='X' or P1=='O'):\n",
        "    set=0\n",
        "   else:\n",
        "    print(\"Choose valid value either X or O\")\n",
        "  if P1=='X':\n",
        "   P2='O'\n",
        "  else:\n",
        "   P2='X'\n",
        "  return (P1,P2)\n",
        "   "
      ],
      "execution_count": 0,
      "outputs": []
    },
    {
      "cell_type": "code",
      "metadata": {
        "id": "QYF920Y97JHw",
        "colab_type": "code",
        "colab": {}
      },
      "source": [
        "def Mark(tic_toc,choice,position):\n",
        "  tic_toc[int(position)-1]=choice\n",
        "    "
      ],
      "execution_count": 0,
      "outputs": []
    },
    {
      "cell_type": "code",
      "metadata": {
        "id": "8kHMXxNaBVHq",
        "colab_type": "code",
        "colab": {}
      },
      "source": [
        "def check_win(tic_toc,choice):\n",
        "  if tic_toc[0]==tic_toc[1]==tic_toc[2]==choice:\n",
        "    return True\n",
        "  elif tic_toc[0]==tic_toc[3]==tic_toc[6]==choice:\n",
        "    return True\n",
        "  elif tic_toc[1]==tic_toc[5]==tic_toc[7]==choice:\n",
        "    return True  \n",
        "  elif tic_toc[2]==tic_toc[6]==tic_toc[8]==choice:\n",
        "    return True\n",
        "  elif tic_toc[3]==tic_toc[4]==tic_toc[5]==choice:\n",
        "    return True\n",
        "  elif tic_toc[6]==tic_toc[7]==tic_toc[8]==choice:\n",
        "    return True\n",
        "  elif tic_toc[0]==tic_toc[4]==tic_toc[8]==choice:\n",
        "    return True\n",
        "  elif tic_toc[2]==tic_toc[4]==tic_toc[6]==choice:\n",
        "    return True\n",
        "  else:\n",
        "    return False"
      ],
      "execution_count": 0,
      "outputs": []
    },
    {
      "cell_type": "code",
      "metadata": {
        "id": "Xg8XtTwDaopf",
        "colab_type": "code",
        "colab": {}
      },
      "source": [
        "import random\n",
        "def first_chance():\n",
        " return random.choice(['Player1','Player2'])\n"
      ],
      "execution_count": 0,
      "outputs": []
    },
    {
      "cell_type": "code",
      "metadata": {
        "id": "Od-AgMeEgWNX",
        "colab_type": "code",
        "colab": {}
      },
      "source": [
        "def available(tic_toc,pos):\n",
        "  return(tic_toc[pos]==' ')\n",
        " "
      ],
      "execution_count": 0,
      "outputs": []
    },
    {
      "cell_type": "code",
      "metadata": {
        "id": "L2Z20AczhNRC",
        "colab_type": "code",
        "colab": {}
      },
      "source": [
        "def is_full(tic_toc):\n",
        "  for val in tic_toc:\n",
        "    if val==' ':\n",
        "      return False\n",
        "  return True"
      ],
      "execution_count": 0,
      "outputs": []
    },
    {
      "cell_type": "code",
      "metadata": {
        "id": "Hcv8naCGmWI6",
        "colab_type": "code",
        "colab": {}
      },
      "source": [
        "def player_choice(tic_toc):\n",
        "  flag=1\n",
        "  while(flag==1):\n",
        "    pos=input(\"Enter position to mark between 1-9\")\n",
        "    if available(tic_toc,int(pos)-1):\n",
        "      flag=0\n",
        "      return pos\n",
        "    else:\n",
        "      print(pos,\" is occupied enter other than this between 1-9\")"
      ],
      "execution_count": 0,
      "outputs": []
    },
    {
      "cell_type": "code",
      "metadata": {
        "id": "3V_bRGQJsmF5",
        "colab_type": "code",
        "colab": {}
      },
      "source": [
        "def again():\n",
        "  choice=input(\"Enter 1 to play again or any other key to exit\")\n",
        "  if choice==1:\n",
        "    return True\n",
        "  else:\n",
        "    return False"
      ],
      "execution_count": 0,
      "outputs": []
    },
    {
      "cell_type": "code",
      "metadata": {
        "id": "KC2OX6OjwijP",
        "colab_type": "code",
        "colab": {}
      },
      "source": [
        "def play_game():\n",
        " sample=['1','2','3','4','5','6','7','8','9']\n",
        " board=[' ']*9\n",
        " print(\"You can choose from 1-9 to mark at respective position\")\n",
        " #to display smple of position\n",
        " display(sample)\n",
        " print(\"So lets start, decide between yourself who is player1 and who is player2\")\n",
        " #tp get marks what the player will use between X or O\n",
        " p1,p2= choice()\n",
        " print('Mark for Player1 is : ',p1)\n",
        " print('Mark for Player2 is : ',p2)\n",
        " print(\"the player who will start first is: \")\n",
        " #to know who will start first\n",
        " first=first_chance()\n",
        " \n",
        "#to set mark for player acc to turn mark1 for the one who starts and mark2 for second one\n",
        " if first=='Player1':\n",
        "   mark1=p1\n",
        "   mark2=p2\n",
        "   sec='Player2'\n",
        " else:\n",
        "   mark1=p2\n",
        "   mark2=p1\n",
        "   sec='Player1'\n",
        " winner='None'\n",
        " while(not check_win(board,'X') and not check_win(board,'X') and not is_full(board)):\n",
        "   print(first,\" your turn\")\n",
        "   print('board current status: ')\n",
        "   display(board)\n",
        "   #tocheck valid pos value\n",
        "   pos1=player_choice(board)\n",
        "   \n",
        "   #to mark the board for player who strated first at his desired position\n",
        "   Mark(board,mark1,pos1)\n",
        "   \n",
        "   print('board current status: ')\n",
        "   display(board)\n",
        "   #to check if 1st won\n",
        "   if(check_win(board,mark1)):\n",
        "     print(first,' ,you won!!!CONGRATULATIONS!!!')\n",
        "     winner=first\n",
        "     break\n",
        "   #now fow sec's turn\n",
        "   print(sec,\" your turn\")\n",
        "   print('board current status: ')\n",
        "   display(board)\n",
        "   #tocheck valid pos value\n",
        "   pos2=player_choice(board)\n",
        "   \n",
        "   #to mark the board for player who strated first at his desired position\n",
        "   Mark(board,mark2,pos2)\n",
        "   \n",
        "   print('board current status: ')\n",
        "   display(board)\n",
        "   #to check if 1st won\n",
        "   if(check_win(board,mark2)):\n",
        "     print(sec,' ,you won!!!CONGRATULATIONS!!!')\n",
        "     winner=sec\n",
        "     break\n",
        "  \n",
        "\n",
        " print('Winner of this game is: ',winner)\n",
        "\n",
        " if(again()):\n",
        "   print(\"Let's play again\")\n",
        "   play()\n",
        " else:\n",
        "   print(\"Thanks for playing\")\n",
        "    \n",
        "\n",
        "\n",
        "\n",
        "\n",
        "\n",
        " \n",
        "\n",
        " "
      ],
      "execution_count": 0,
      "outputs": []
    }
  ]
}